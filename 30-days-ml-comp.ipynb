{
 "cells": [
  {
   "cell_type": "code",
   "execution_count": 1,
   "id": "9cbdfb92",
   "metadata": {
    "_cell_guid": "b1076dfc-b9ad-4769-8c92-a6c4dae69d19",
    "_uuid": "8f2839f25d086af736a60e9eeb907d3b93b6e0e5",
    "execution": {
     "iopub.execute_input": "2021-08-24T17:56:44.915660Z",
     "iopub.status.busy": "2021-08-24T17:56:44.914970Z",
     "iopub.status.idle": "2021-08-24T17:56:46.334975Z",
     "shell.execute_reply": "2021-08-24T17:56:46.335523Z",
     "shell.execute_reply.started": "2021-08-24T16:36:27.313388Z"
    },
    "papermill": {
     "duration": 1.446352,
     "end_time": "2021-08-24T17:56:46.335850",
     "exception": false,
     "start_time": "2021-08-24T17:56:44.889498",
     "status": "completed"
    },
    "tags": []
   },
   "outputs": [],
   "source": [
    "# This Python 3 environment comes with many helpful analytics libraries installed\n",
    "# It is defined by the kaggle/python Docker image: https://github.com/kaggle/docker-python\n",
    "# For example, here's several helpful packages to load\n",
    "\n",
    "import numpy as np # linear algebra\n",
    "import pandas as pd # data processing, CSV file I/O (e.g. pd.read_csv)\n",
    "from sklearn.model_selection import train_test_split\n",
    "from sklearn.linear_model import SGDRegressor\n",
    "from xgboost import XGBRegressor\n",
    "from sklearn.preprocessing import OneHotEncoder\n",
    "from sklearn.metrics import mean_squared_error\n",
    "\n",
    "# Input data files are available in the read-only \"../input/\" directory\n",
    "# For example, running this (by clicking run or pressing Shift+Enter) will list all files under the input directory\n",
    "\n",
    "import os\n",
    "for dirname, _, filenames in os.walk('/kaggle/input'):\n",
    "    for filename in filenames:\n",
    "        print(os.path.join(dirname, filename))\n",
    "\n",
    "# You can write up to 20GB to the current directory (/kaggle/working/) that gets preserved as output when you create a version using \"Save & Run All\" \n",
    "# You can also write temporary files to /kaggle/temp/, but they won't be saved outside of the current session"
   ]
  },
  {
   "cell_type": "code",
   "execution_count": 2,
   "id": "2c2747a8",
   "metadata": {
    "execution": {
     "iopub.execute_input": "2021-08-24T17:56:46.365179Z",
     "iopub.status.busy": "2021-08-24T17:56:46.364476Z",
     "iopub.status.idle": "2021-08-24T17:56:50.952563Z",
     "shell.execute_reply": "2021-08-24T17:56:50.953103Z",
     "shell.execute_reply.started": "2021-08-24T16:58:12.160865Z"
    },
    "papermill": {
     "duration": 4.603382,
     "end_time": "2021-08-24T17:56:50.953300",
     "exception": false,
     "start_time": "2021-08-24T17:56:46.349918",
     "status": "completed"
    },
    "tags": []
   },
   "outputs": [],
   "source": [
    "train_import = pd.read_csv(\"input/train.csv\")\n",
    "\n",
    "test_import = pd.read_csv(\"input/test.csv\")"
   ]
  },
  {
   "cell_type": "code",
   "execution_count": 3,
   "id": "173ac072",
   "metadata": {
    "execution": {
     "iopub.execute_input": "2021-08-24T17:56:50.980167Z",
     "iopub.status.busy": "2021-08-24T17:56:50.979134Z",
     "iopub.status.idle": "2021-08-24T17:56:51.189875Z",
     "shell.execute_reply": "2021-08-24T17:56:51.190417Z",
     "shell.execute_reply.started": "2021-08-24T16:55:33.166102Z"
    },
    "papermill": {
     "duration": 0.225638,
     "end_time": "2021-08-24T17:56:51.190593",
     "exception": false,
     "start_time": "2021-08-24T17:56:50.964955",
     "status": "completed"
    },
    "tags": []
   },
   "outputs": [],
   "source": [
    "X = train_import.drop([\"target\"], axis=1)\n",
    "y = train_import[\"target\"]\n",
    "\n",
    "X_train, X_test, y_train, y_test = train_test_split(X, y, train_size=0.8, random_state=42)"
   ]
  },
  {
   "cell_type": "code",
   "execution_count": 4,
   "id": "3cdfbcb6",
   "metadata": {
    "execution": {
     "iopub.execute_input": "2021-08-24T17:56:51.217649Z",
     "iopub.status.busy": "2021-08-24T17:56:51.216654Z",
     "iopub.status.idle": "2021-08-24T17:56:53.105715Z",
     "shell.execute_reply": "2021-08-24T17:56:53.105160Z",
     "shell.execute_reply.started": "2021-08-24T16:36:32.896141Z"
    },
    "papermill": {
     "duration": 1.903653,
     "end_time": "2021-08-24T17:56:53.105894",
     "exception": false,
     "start_time": "2021-08-24T17:56:51.202241",
     "status": "completed"
    },
    "tags": []
   },
   "outputs": [],
   "source": [
    "# Need to encode the categorical data. First, split categorical data from numerical, then encode, then recombine\n",
    "\n",
    "# Split data \n",
    "# Categorical first\n",
    "holder = (X_train.dtypes == 'object')\n",
    "object_cols = list(holder[holder].index)\n",
    "\n",
    "# Now Numerical Columns\n",
    "num_X_train = X_train.drop(object_cols, axis=1)\n",
    "num_X_test = X_test.drop(object_cols, axis=1)\n",
    "\n",
    "# Encode split data\n",
    "OHE = OneHotEncoder(handle_unknown=\"ignore\", sparse=False)\n",
    "OH_columns_train = pd.DataFrame(OHE.fit_transform(X_train[object_cols]))\n",
    "OH_columns_test = pd.DataFrame(OHE.transform(X_test[object_cols]))\n",
    "\n",
    "OH_columns_train.index = X_train.index\n",
    "OH_columns_test.index = X_test.index\n",
    "\n",
    "# Now recombine the encoded categorical data with numerical data\n",
    "OH_X_train = pd.concat([OH_columns_train, num_X_train], axis = 1)\n",
    "OH_X_test = pd.concat([OH_columns_test, num_X_test], axis = 1)"
   ]
  },
  {
   "cell_type": "code",
   "execution_count": 5,
   "id": "a0d14c69",
   "metadata": {
    "execution": {
     "iopub.execute_input": "2021-08-24T17:56:53.142922Z",
     "iopub.status.busy": "2021-08-24T17:56:53.141454Z",
     "iopub.status.idle": "2021-08-24T18:03:51.075763Z",
     "shell.execute_reply": "2021-08-24T18:03:51.076426Z",
     "shell.execute_reply.started": "2021-08-24T16:36:34.097427Z"
    },
    "papermill": {
     "duration": 417.958349,
     "end_time": "2021-08-24T18:03:51.076668",
     "exception": false,
     "start_time": "2021-08-24T17:56:53.118319",
     "status": "completed"
    },
    "tags": []
   },
   "outputs": [],
   "source": [
    "# Build params dictionary\n",
    "params = {\n",
    "    'max_depth':6,\n",
    "    'min_child_weight': 1,\n",
    "    'eta':.3,\n",
    "    'subsample':1,\n",
    "    'colsample_bytree':1,\n",
    "    'objective': 'reg:linear',\n",
    "    'eval_metric': 'mae'\n",
    "}\n",
    "\n",
    "# Instantiate models, fit and set predictions\n",
    "model_xgb = XGBRegressor(n_estimators=999, \n",
    "                         random_state=42,\n",
    "                         max_depth = 4,\n",
    "                         min_child_weight = 1,\n",
    "                         eta=.05,\n",
    "                         subsample=1,\n",
    "                         colsample_bytree=1)\n",
    "model_xgb.fit(OH_X_train, y_train,\n",
    "             early_stopping_rounds= 10,\n",
    "             eval_set=[(OH_X_test, y_test)],\n",
    "             verbose=False)\n",
    "predictions_xgb = model_xgb.predict(OH_X_test)"
   ]
  },
  {
   "cell_type": "code",
   "execution_count": 6,
   "id": "eac8e43c",
   "metadata": {
    "execution": {
     "iopub.execute_input": "2021-08-24T18:03:51.115491Z",
     "iopub.status.busy": "2021-08-24T18:03:51.113830Z",
     "iopub.status.idle": "2021-08-24T18:05:06.538343Z",
     "shell.execute_reply": "2021-08-24T18:05:06.539613Z",
     "shell.execute_reply.started": "2021-08-24T16:43:16.348861Z"
    },
    "papermill": {
     "duration": 75.448732,
     "end_time": "2021-08-24T18:05:06.539955",
     "exception": false,
     "start_time": "2021-08-24T18:03:51.091223",
     "status": "completed"
    },
    "tags": []
   },
   "outputs": [],
   "source": [
    "# Instantiate second model for testing against\n",
    "model_sgdc = SGDRegressor(random_state=42)\n",
    "OH_X_train.head()\n",
    "y_train.head()\n",
    "\n",
    "model_sgdc.fit(OH_X_train, y_train)\n",
    "predictions_sgdc = model_sgdc.predict(OH_X_test)\n"
   ]
  },
  {
   "cell_type": "code",
   "execution_count": 7,
   "id": "d86f7b0a",
   "metadata": {
    "execution": {
     "iopub.execute_input": "2021-08-24T18:05:06.590915Z",
     "iopub.status.busy": "2021-08-24T18:05:06.589774Z",
     "iopub.status.idle": "2021-08-24T18:05:06.599407Z",
     "shell.execute_reply": "2021-08-24T18:05:06.600472Z",
     "shell.execute_reply.started": "2021-08-24T16:44:30.180748Z"
    },
    "papermill": {
     "duration": 0.039513,
     "end_time": "2021-08-24T18:05:06.600760",
     "exception": false,
     "start_time": "2021-08-24T18:05:06.561247",
     "status": "completed"
    },
    "tags": []
   },
   "outputs": [
    {
     "name": "stdout",
     "output_type": "stream",
     "text": [
      "XGBoost RMSE Score: 0.7209609851594075\n",
      "SGDClassifier RMSE Score: 1.467187619330082e+18\n"
     ]
    }
   ],
   "source": [
    "# Evaluate using RMSE against test data\n",
    "rms_xgb = mean_squared_error(y_test, predictions_xgb, squared=False)\n",
    "rms_sgdc = mean_squared_error(y_test, predictions_sgdc, squared = False)\n",
    "print(f\"XGBoost RMSE Score: {rms_xgb}\")\n",
    "print(f\"SGDClassifier RMSE Score: {rms_sgdc}\")"
   ]
  },
  {
   "cell_type": "code",
   "execution_count": 8,
   "id": "06468b12",
   "metadata": {
    "execution": {
     "iopub.execute_input": "2021-08-24T18:05:06.673555Z",
     "iopub.status.busy": "2021-08-24T18:05:06.672750Z",
     "iopub.status.idle": "2021-08-24T18:05:08.572153Z",
     "shell.execute_reply": "2021-08-24T18:05:08.571531Z",
     "shell.execute_reply.started": "2021-08-24T17:04:29.710861Z"
    },
    "papermill": {
     "duration": 1.949529,
     "end_time": "2021-08-24T18:05:08.572307",
     "exception": false,
     "start_time": "2021-08-24T18:05:06.622778",
     "status": "completed"
    },
    "tags": []
   },
   "outputs": [],
   "source": [
    "# Evaluate against full training set\n",
    "\n",
    "# First encode full data set\n",
    "# Need to encode the categorical data. First, split categorical data from numerical, then encode, then recombine\n",
    "\n",
    "# Split data \n",
    "# Categorical first\n",
    "holder = (X.dtypes == 'object')\n",
    "object_cols = list(holder[holder].index)\n",
    "\n",
    "# Now Numerical Columns\n",
    "num_X_train = X.drop(object_cols, axis=1)\n",
    "\n",
    "# Encode split data\n",
    "OHE = OneHotEncoder(handle_unknown=\"ignore\", sparse=False)\n",
    "OH_columns_train = pd.DataFrame(OHE.fit_transform(X[object_cols]))\n",
    "\n",
    "OH_columns_train.index = X.index\n",
    "\n",
    "# Now recombine the encoded categorical data with numerical data\n",
    "OH_X = pd.concat([OH_columns_train, num_X_train], axis = 1)"
   ]
  },
  {
   "cell_type": "code",
   "execution_count": null,
   "id": "c903b339",
   "metadata": {
    "execution": {
     "iopub.execute_input": "2021-08-24T18:05:08.605000Z",
     "iopub.status.busy": "2021-08-24T18:05:08.604226Z",
     "iopub.status.idle": "2021-08-24T18:15:12.353971Z",
     "shell.execute_reply": "2021-08-24T18:15:12.354612Z",
     "shell.execute_reply.started": "2021-08-24T17:04:32.086722Z"
    },
    "papermill": {
     "duration": 603.770309,
     "end_time": "2021-08-24T18:15:12.354825",
     "exception": false,
     "start_time": "2021-08-24T18:05:08.584516",
     "status": "completed"
    },
    "tags": []
   },
   "outputs": [],
   "source": [
    "# Now fit model on full training data\n",
    "xgb_on_full_data = XGBRegressor(n_estimators=999, \n",
    "                         random_state=42,\n",
    "                         max_depth = 4,\n",
    "                         min_child_weight = 1,\n",
    "                         eta=.05,\n",
    "                         subsample=1,\n",
    "                         colsample_bytree=1)\n",
    "\n",
    "xgb_on_full_data.fit(OH_X, y)"
   ]
  },
  {
   "cell_type": "code",
   "execution_count": null,
   "id": "7554092e",
   "metadata": {
    "execution": {
     "iopub.execute_input": "2021-08-24T18:15:12.444331Z",
     "iopub.status.busy": "2021-08-24T18:15:12.417864Z",
     "iopub.status.idle": "2021-08-24T18:15:13.716207Z",
     "shell.execute_reply": "2021-08-24T18:15:13.715446Z",
     "shell.execute_reply.started": "2021-08-24T17:49:52.328334Z"
    },
    "papermill": {
     "duration": 1.348768,
     "end_time": "2021-08-24T18:15:13.716368",
     "exception": false,
     "start_time": "2021-08-24T18:15:12.367600",
     "status": "completed"
    },
    "tags": []
   },
   "outputs": [],
   "source": [
    "# Evaluate on test data from separate CSV\n",
    "# First encode test data\n",
    "\n",
    "holder = (test_import.dtypes == 'object')\n",
    "object_cols = list(holder[holder].index)\n",
    "\n",
    "# Now Numerical Columns\n",
    "num_X_train = test_import.drop(object_cols, axis=1)\n",
    "\n",
    "# Encode split data\n",
    "OHE = OneHotEncoder(handle_unknown=\"ignore\", sparse=False)\n",
    "OH_columns_train = pd.DataFrame(OHE.fit_transform(test_import[object_cols]))\n",
    "\n",
    "OH_columns_train.index = test_import.index\n",
    "\n",
    "# Now recombine the encoded categorical data with numerical data\n",
    "OH_test = pd.concat([OH_columns_train, num_X_train], axis = 1)\n"
   ]
  },
  {
   "cell_type": "code",
   "execution_count": null,
   "id": "445ea34b",
   "metadata": {
    "execution": {
     "iopub.execute_input": "2021-08-24T18:15:13.749635Z",
     "iopub.status.busy": "2021-08-24T18:15:13.748877Z",
     "iopub.status.idle": "2021-08-24T18:15:15.164860Z",
     "shell.execute_reply": "2021-08-24T18:15:15.165521Z",
     "shell.execute_reply.started": "2021-08-24T17:50:05.150815Z"
    },
    "papermill": {
     "duration": 1.4362,
     "end_time": "2021-08-24T18:15:15.165732",
     "exception": false,
     "start_time": "2021-08-24T18:15:13.729532",
     "status": "completed"
    },
    "tags": []
   },
   "outputs": [],
   "source": [
    "# Predict using encoded test data\n",
    "test_preds = xgb_on_full_data.predict(OH_test)"
   ]
  },
  {
   "cell_type": "code",
   "execution_count": null,
   "id": "6158a03e",
   "metadata": {
    "execution": {
     "iopub.execute_input": "2021-08-24T18:15:15.200244Z",
     "iopub.status.busy": "2021-08-24T18:15:15.199446Z",
     "iopub.status.idle": "2021-08-24T18:15:15.796068Z",
     "shell.execute_reply": "2021-08-24T18:15:15.795312Z",
     "shell.execute_reply.started": "2021-08-24T17:50:35.659380Z"
    },
    "papermill": {
     "duration": 0.615184,
     "end_time": "2021-08-24T18:15:15.796268",
     "exception": false,
     "start_time": "2021-08-24T18:15:15.181084",
     "status": "completed"
    },
    "tags": []
   },
   "outputs": [],
   "source": [
    "# Generate submission CSV\n",
    "submission = pd.DataFrame({\"ID\": OH_test.id,\n",
    "                         \"target\": test_preds})\n",
    "submission.to_csv(\"30dayscompsub.csv\", index=False)"
   ]
  }
 ],
 "metadata": {
  "kernelspec": {
   "display_name": "Python 3",
   "language": "python",
   "name": "python3"
  },
  "language_info": {
   "codemirror_mode": {
    "name": "ipython",
    "version": 3
   },
   "file_extension": ".py",
   "mimetype": "text/x-python",
   "name": "python",
   "nbconvert_exporter": "python",
   "pygments_lexer": "ipython3",
   "version": "3.9.6"
  },
  "papermill": {
   "default_parameters": {},
   "duration": 1121.211698,
   "end_time": "2021-08-24T18:15:16.722008",
   "environment_variables": {},
   "exception": null,
   "input_path": "__notebook__.ipynb",
   "output_path": "__notebook__.ipynb",
   "parameters": {},
   "start_time": "2021-08-24T17:56:35.510310",
   "version": "2.3.3"
  }
 },
 "nbformat": 4,
 "nbformat_minor": 5
}
